{
 "cells": [
  {
   "cell_type": "code",
   "execution_count": 4,
   "metadata": {},
   "outputs": [
    {
     "ename": "SyntaxError",
     "evalue": "invalid syntax (<ipython-input-4-9e5cd1a9a422>, line 70)",
     "output_type": "error",
     "traceback": [
      "\u001b[0;36m  File \u001b[0;32m\"<ipython-input-4-9e5cd1a9a422>\"\u001b[0;36m, line \u001b[0;32m70\u001b[0m\n\u001b[0;31m    for i in range(0,10)):\u001b[0m\n\u001b[0m                        ^\u001b[0m\n\u001b[0;31mSyntaxError\u001b[0m\u001b[0;31m:\u001b[0m invalid syntax\n"
     ]
    }
   ],
   "source": [
    "import pandas as pd\n",
    "import math\n",
    "import os\n",
    "\n",
    "os.chdir(\"../../../Mouse-Dynamics-Challenge/test_files/user12/\")\n",
    "listing = os.listdir('../../../Mouse-Dynamics-Challenge/test_files/user12/') \n",
    "\n",
    "#calculate distance between two points\n",
    "def distance(x1,y1,x2,y2):\n",
    "    return((pow(x2-x1,2)+pow(y2-y1,2))**(1.0/2))\n",
    "\n",
    "#returns cps, avg. click time & no. of clicks\n",
    "def clicks(df,data): \n",
    "    clicknum=0.01 #no. of clicks \n",
    "    avgclicktime=0; #average click time\n",
    "    clickpersec=0; #clicks per sec\n",
    "\n",
    "    for i in range(0, len(df)-1):\n",
    "        if(df.iloc[i]['state']=='Pressed'):\n",
    "            clicknum= clicknum+1\n",
    "            if (df.iloc[i+1]['state']=='Released'):\n",
    "                avgclicktime= avgclicktime+(df.iloc[i+1]['client timestamp'])-(df.iloc[i]['client timestamp'])\n",
    "    avgclicktime=avgclicktime/clicknum\n",
    "    clickpersec=clicknum/((df.iloc[len(df)-1]['client timestamp']-df.iloc[0]['client timestamp'])+0.01)\n",
    "    data.append(clickpersec)\n",
    "    data.append(avgclicktime)\n",
    "    data.append(clicknum)\n",
    "\n",
    "#calculate average speed of mouse\n",
    "def speed(df,data):\n",
    "    spsum=0 #average speed\n",
    "    for i in range(0, len(df)-2):\n",
    "        d=distance(df.iloc[i+1]['x'],df.iloc[i+1]['y'],df.iloc[i]['x'],df.iloc[i]['y'])\n",
    "        t=(df.iloc[i+1]['client timestamp'])-(df.iloc[i]['client timestamp'])\n",
    "        if (t!=0):\n",
    "            spsum=spsum+(d/(t+0.01))\n",
    "    spsum= spsum/((len(df)-2)+0.01)\n",
    "    data.append(spsum)\n",
    "\n",
    "#calculate avg. drag length, avg. drag speed, no. of drags & avg. drag time\n",
    "def drag(df,data):\n",
    "    draglen=0 #avg. drag length\n",
    "    dragspeed=0 #avg. drag speed\n",
    "    dragnum=0.01 #no. of drags\n",
    "    dragtime=0 #avg. drag time\n",
    "    for i in range(0,len(df)-2):\n",
    "        if(df.iloc[i]['state']=='Pressed'and df.iloc[i+1]['state']=='Drag'):\n",
    "            dis=0\n",
    "            dragnum=dragnum+1\n",
    "            it=df.iloc[i]['client timestamp']\n",
    "            ix=df.iloc[i]['x']\n",
    "            iy=df.iloc[i]['y']\n",
    "            while(df.iloc[i]['state']!='Released'):\n",
    "                fx=df.iloc[i+1]['x']\n",
    "                fy=df.iloc[i+1]['y']\n",
    "                dis=dis+distance(fx,fy,ix,iy)\n",
    "                ix=fx\n",
    "                iy=fy\n",
    "                i= i+1\n",
    "            ft=df.iloc[i]['client timestamp']\n",
    "            draglen=draglen+dis\n",
    "            dragtime=dragtime+(ft-it)\n",
    "            dragspeed=dragspeed+(dis/((ft-it)+0.01))\n",
    "    data.append(dragspeed/dragnum)\n",
    "    data.append(dragnum)\n",
    "    data.append(draglen/dragnum)\n",
    "    data.append(dragtime/dragnum)\n",
    "            \n",
    "ans=[]\n",
    "for i in range(0,10):\n",
    "    infile=listing[i]\n",
    "    df=pd.read_csv(infile)\n",
    "    data=[]\n",
    "    clicks(df,data)\n",
    "    speed(df,data)\n",
    "    drag(df,data)\n",
    "    ans.insert(i,data)\n",
    "dff = pd.DataFrame(ans,columns=['CPS','Avg click time','No.of clicks','Average mouse Speed','Avg drag speed','No. of drags','Avg drag length','Avg drag time'])\n",
    "print(dff)"
   ]
  },
  {
   "cell_type": "code",
   "execution_count": null,
   "metadata": {
    "collapsed": true
   },
   "outputs": [],
   "source": []
  }
 ],
 "metadata": {
  "kernelspec": {
   "display_name": "Python 3",
   "language": "python",
   "name": "python3"
  },
  "language_info": {
   "codemirror_mode": {
    "name": "ipython",
    "version": 3
   },
   "file_extension": ".py",
   "mimetype": "text/x-python",
   "name": "python",
   "nbconvert_exporter": "python",
   "pygments_lexer": "ipython3",
   "version": "3.6.2"
  }
 },
 "nbformat": 4,
 "nbformat_minor": 2
}
